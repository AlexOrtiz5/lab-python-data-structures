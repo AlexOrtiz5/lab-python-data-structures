{
 "cells": [
  {
   "cell_type": "markdown",
   "metadata": {
    "tags": []
   },
   "source": [
    "# Lab | Data Structures "
   ]
  },
  {
   "cell_type": "markdown",
   "metadata": {},
   "source": [
    "## Exercise: Managing Customer Orders\n",
    "\n",
    "As part of a business venture, you are starting an online store that sells various products. To ensure smooth operations, you need to develop a program that manages customer orders and inventory.\n",
    "\n",
    "Follow the steps below to complete the exercise:\n",
    "\n",
    "1. Define a list called `products` that contains the following items: \"t-shirt\", \"mug\", \"hat\", \"book\", \"keychain\".\n",
    "\n",
    "2. Create an empty dictionary called `inventory`.\n",
    "\n",
    "3. Ask the user to input the quantity of each product available in the inventory. Use the product names from the `products` list as keys in the `inventory` dictionary and assign the respective quantities as values.\n",
    "\n",
    "4. Create an empty set called `customer_orders`.\n",
    "\n",
    "5. Ask the user to input the name of three products that a customer wants to order (from those in the products list, meaning three products out of \"t-shirt\", \"mug\", \"hat\", \"book\" or \"keychain\". Add each product name to the `customer_orders` set.\n",
    "\n",
    "6. Print the products in the `customer_orders` set.\n",
    "\n",
    "7. Calculate the following order statistics:\n",
    "   - Total Products Ordered: The total number of products in the `customer_orders` set.\n",
    "   - Percentage of Products Ordered: The percentage of products ordered compared to the total available products.\n",
    "   \n",
    "   Store these statistics in a tuple called `order_status`.\n",
    "\n",
    "8. Print the order statistics using the following format:\n",
    "   ```\n",
    "   Order Statistics:\n",
    "   Total Products Ordered: <total_products_ordered>\n",
    "   Percentage of Products Ordered: <percentage_ordered>% \n",
    "   ```\n",
    "\n",
    "9. Update the inventory by subtracting 1 from the quantity of each product. Modify the `inventory` dictionary accordingly.\n",
    "\n",
    "10. Print the updated inventory, displaying the quantity of each product on separate lines.\n",
    "\n",
    "Solve the exercise by implementing the steps using the Python concepts of lists, dictionaries, sets, and basic input/output operations. "
   ]
  },
  {
   "cell_type": "code",
   "execution_count": 25,
   "metadata": {},
   "outputs": [],
   "source": [
    "#1. Define a list called 'products' that contains the following items: \"t-shirt\", \"mug\", \"hat\", \"book\", \"keychain\".\n",
    "\n",
    "Products_list = [\"t-shirt\", \"mug\", \"hat\", \"book\", \"keychain\"]"
   ]
  },
  {
   "cell_type": "code",
   "execution_count": 26,
   "metadata": {},
   "outputs": [],
   "source": [
    "#2. Create an empty dictionary called 'inventory'.\n",
    "\n",
    "Inventory_dict = {}"
   ]
  },
  {
   "cell_type": "code",
   "execution_count": 28,
   "metadata": {},
   "outputs": [
    {
     "name": "stdout",
     "output_type": "stream",
     "text": [
      "The Inventory is: \n",
      "t-shirt: 4\n",
      "mug: 5\n",
      "hat: 6\n",
      "book: 7\n",
      "keychain: 4\n"
     ]
    }
   ],
   "source": [
    "#3. Ask the user to input the quantity of each product available in the inventory. Use the product names from the 'products' \n",
    "#   list as keys in the `inventory` dictionary and assign the respective quantities as values.\n",
    "for product in Products_list:\n",
    "    quantity_stored = input(f'Enter how many quantity of {product} are available: ')\n",
    "    Inventory_dict.update({product: int(quantity_stored)})\n",
    "    \n",
    "print(\"The Inventory is: \")\n",
    "for product, quantity in Inventory_dict.items():\n",
    "    print(f\"{product}: {quantity}\")   "
   ]
  },
  {
   "cell_type": "code",
   "execution_count": 17,
   "metadata": {},
   "outputs": [],
   "source": [
    "#4. Create an empty set called 'customer_orders'.\n",
    "\n",
    "Customer_Orders = set()"
   ]
  },
  {
   "cell_type": "code",
   "execution_count": 18,
   "metadata": {},
   "outputs": [
    {
     "name": "stdout",
     "output_type": "stream",
     "text": [
      "Name the three products that you want to order of the list: \n",
      "['t-shirt', 'mug', 'hat', 'book', 'keychain'] \n"
     ]
    }
   ],
   "source": [
    "#5. Ask the user to input the name of three products that a customer wants to order (from those in the products list, meaning \n",
    "# three products out of \"t-shirt\", \"mug\", \"hat\", \"book\" or \"keychain\". Add each product name to the 'customer_orders' set.\n",
    "\n",
    "print(\"Name the three products that you want to order of the list: \") \n",
    "print(f\"{Products_list} \")\n",
    "for i in range(3):\n",
    "    Name_order = input(\"The Products name: \")\n",
    "    while Name_order not in Products_list:\n",
    "        print(\"The product is not available.\")\n",
    "        Name_order = input(\"Please enter again. The product name: \")   \n",
    "    Customer_Orders.add(Name_order) "
   ]
  },
  {
   "cell_type": "code",
   "execution_count": 19,
   "metadata": {},
   "outputs": [
    {
     "name": "stdout",
     "output_type": "stream",
     "text": [
      "The customer orders are:  {'hat', 'book', 'mug'} \n",
      "\n"
     ]
    }
   ],
   "source": [
    "#6. Print the products in the 'customer_orders' set.\n",
    "\n",
    "print(\"The customer orders are: \", Customer_Orders)"
   ]
  },
  {
   "cell_type": "code",
   "execution_count": 20,
   "metadata": {},
   "outputs": [],
   "source": [
    "#7. Calculate the following order statistics:\n",
    "#   - Total Products Ordered: The total number of products in the 'customer_orders' set.\n",
    "#   - Percentage of Products Ordered: The percentage of products ordered compared to the total available products.\n",
    "   \n",
    "#   Store these statistics in a tuple called 'order_status'.\n",
    "\n",
    "Total_ordered = len(Customer_Orders)\n",
    "Percentage_ordered = (Total_ordered / len(Products_list)) * 100\n",
    "Order_status = (Total_ordered, Percentage_ordered)"
   ]
  },
  {
   "cell_type": "code",
   "execution_count": 23,
   "metadata": {},
   "outputs": [
    {
     "name": "stdout",
     "output_type": "stream",
     "text": [
      "Order Statistics: \n",
      "Total Product Ordered: 3\n",
      "Percentage of Product Ordered: 60.0 \n",
      "\n"
     ]
    }
   ],
   "source": [
    "#8. Print the order statistics using the following format:\n",
    "#   ```\n",
    "#   Order Statistics:\n",
    "#   Total Products Ordered: <total_products_ordered>\n",
    "#   Percentage of Products Ordered: <percentage_ordered>% \n",
    "#   ```\n",
    "\n",
    "print(\"Order Statistics: \")\n",
    "print(f\"Total Product Ordered: {Order_status[0]}\")\n",
    "print(f\"Percentage of Product Ordered: {Order_status[1]}\")"
   ]
  },
  {
   "cell_type": "code",
   "execution_count": 22,
   "metadata": {},
   "outputs": [],
   "source": [
    "#9. Update the inventory by subtracting 1 from the quantity of each product. Modify the 'inventory' dictionary accordingly.\n",
    "\n",
    "for product in Customer_Orders:\n",
    "    Inventory_dict[product] -= 1"
   ]
  },
  {
   "cell_type": "code",
   "execution_count": 24,
   "metadata": {},
   "outputs": [
    {
     "name": "stdout",
     "output_type": "stream",
     "text": [
      "The Update Inventory is: \n",
      "t-shirt: 5\n",
      "mug: 5\n",
      "hat: 5\n",
      "book: 3\n",
      "keychain: 3\n"
     ]
    }
   ],
   "source": [
    "#10. Print the updated inventory, displaying the quantity of each product on separate lines.\n",
    "\n",
    "print(\"The Update Inventory is: \")\n",
    "for product, quantity in Inventory_dict.items():\n",
    "    print(f\"{product}: {quantity}\")"
   ]
  }
 ],
 "metadata": {
  "kernelspec": {
   "display_name": "Python 3 (ipykernel)",
   "language": "python",
   "name": "python3"
  },
  "language_info": {
   "codemirror_mode": {
    "name": "ipython",
    "version": 3
   },
   "file_extension": ".py",
   "mimetype": "text/x-python",
   "name": "python",
   "nbconvert_exporter": "python",
   "pygments_lexer": "ipython3",
   "version": "3.11.5"
  }
 },
 "nbformat": 4,
 "nbformat_minor": 4
}
